{
  "cells": [
    {
      "cell_type": "markdown",
      "metadata": {
        "id": "view-in-github"
      },
      "source": [
        "[![Open In Colab](https://colab.research.google.com/assets/colab-badge.svg)](https://colab.research.google.com/github/camenduru/ID-Animator-jupyter/blob/main/ID_Animator_jupyter.ipynb)"
      ]
    },
    {
      "cell_type": "code",
      "execution_count": null,
      "metadata": {
        "id": "VjYy0F2gZIPR"
      },
      "outputs": [],
      "source": [
        "%cd /content\n",
        "!git clone -b dev https://github.com/camenduru/ID-Animator\n",
        "%cd /content/ID-Animator/ID-Animator\n",
        "\n",
        "!pip install gradio einops==0.6.1 diffusers omegaconf insightface==0.7.3 onnxruntime accelerate==0.27.2 peft\n",
        "\n",
        "!apt -y install -qq aria2\n",
        "\n",
        "!aria2c --console-log-level=error -c -x 16 -s 16 -k 1M https://huggingface.co/spaces/ID-Animator/ID-Animator/raw/main/animatediff/sd/feature_extractor/preprocessor_config.json -d /content/ID-Animator/ID-Animator/animatediff/sd/feature_extractor -o preprocessor_config.json\n",
        "!aria2c --console-log-level=error -c -x 16 -s 16 -k 1M https://huggingface.co/spaces/ID-Animator/ID-Animator/raw/main/animatediff/sd/safety_checker/config.json -d /content/ID-Animator/ID-Animator/animatediff/sd/safety_checker -o config.json\n",
        "!aria2c --console-log-level=error -c -x 16 -s 16 -k 1M https://huggingface.co/spaces/ID-Animator/ID-Animator/resolve/main/animatediff/sd/safety_checker/pytorch_model.bin -d /content/ID-Animator/ID-Animator/animatediff/sd/safety_checker -o pytorch_model.bin\n",
        "!aria2c --console-log-level=error -c -x 16 -s 16 -k 1M https://huggingface.co/spaces/ID-Animator/ID-Animator/raw/main/animatediff/sd/scheduler/scheduler_config.json -d /content/ID-Animator/ID-Animator/animatediff/sd/scheduler -o scheduler_config.json\n",
        "!aria2c --console-log-level=error -c -x 16 -s 16 -k 1M https://huggingface.co/spaces/ID-Animator/ID-Animator/raw/main/animatediff/sd/text_encoder/config.json -d /content/ID-Animator/ID-Animator/animatediff/sd/text_encoder -o config.json\n",
        "!aria2c --console-log-level=error -c -x 16 -s 16 -k 1M https://huggingface.co/spaces/ID-Animator/ID-Animator/resolve/main/animatediff/sd/text_encoder/pytorch_model.bin -d /content/ID-Animator/ID-Animator/animatediff/sd/text_encoder -o pytorch_model.bin\n",
        "!aria2c --console-log-level=error -c -x 16 -s 16 -k 1M https://huggingface.co/spaces/ID-Animator/ID-Animator/raw/main/animatediff/sd/tokenizer/merges.txt -d /content/ID-Animator/ID-Animator/animatediff/sd/tokenizer -o merges.txt\n",
        "!aria2c --console-log-level=error -c -x 16 -s 16 -k 1M https://huggingface.co/spaces/ID-Animator/ID-Animator/raw/main/animatediff/sd/tokenizer/special_tokens_map.json -d /content/ID-Animator/ID-Animator/animatediff/sd/tokenizer -o special_tokens_map.json\n",
        "!aria2c --console-log-level=error -c -x 16 -s 16 -k 1M https://huggingface.co/spaces/ID-Animator/ID-Animator/raw/main/animatediff/sd/tokenizer/tokenizer_config.json -d /content/ID-Animator/ID-Animator/animatediff/sd/tokenizer -o tokenizer_config.json\n",
        "!aria2c --console-log-level=error -c -x 16 -s 16 -k 1M https://huggingface.co/spaces/ID-Animator/ID-Animator/raw/main/animatediff/sd/tokenizer/vocab.json -d /content/ID-Animator/ID-Animator/animatediff/sd/tokenizer -o vocab.json\n",
        "!aria2c --console-log-level=error -c -x 16 -s 16 -k 1M https://huggingface.co/spaces/ID-Animator/ID-Animator/raw/main/animatediff/sd/unet/config.json -d /content/ID-Animator/ID-Animator/animatediff/sd/unet -o config.json\n",
        "!aria2c --console-log-level=error -c -x 16 -s 16 -k 1M https://huggingface.co/spaces/ID-Animator/ID-Animator/resolve/main/animatediff/sd/unet/diffusion_pytorch_model.bin -d /content/ID-Animator/ID-Animator/animatediff/sd/unet -o diffusion_pytorch_model.bin\n",
        "!aria2c --console-log-level=error -c -x 16 -s 16 -k 1M https://huggingface.co/spaces/ID-Animator/ID-Animator/raw/main/animatediff/sd/vae/config.json -d /content/ID-Animator/ID-Animator/animatediff/sd/vae -o config.json\n",
        "!aria2c --console-log-level=error -c -x 16 -s 16 -k 1M https://huggingface.co/spaces/ID-Animator/ID-Animator/resolve/main/animatediff/sd/vae/diffusion_pytorch_model.bin -d /content/ID-Animator/ID-Animator/animatediff/sd/vae -o diffusion_pytorch_model.bin\n",
        "!aria2c --console-log-level=error -c -x 16 -s 16 -k 1M https://huggingface.co/spaces/ID-Animator/ID-Animator/raw/main/animatediff/sd/model_index.json -d /content/ID-Animator/ID-Animator/animatediff/sd -o model_index.json\n",
        "!aria2c --console-log-level=error -c -x 16 -s 16 -k 1M https://huggingface.co/spaces/ID-Animator/ID-Animator/raw/main/animatediff/sd/v1-inference.yaml -d /content/ID-Animator/ID-Animator/animatediff/sd -o v1-inference.yaml\n",
        "\n",
        "!aria2c --console-log-level=error -c -x 16 -s 16 -k 1M https://huggingface.co/spaces/ID-Animator/ID-Animator/resolve/main/animator.ckpt -d /content/ID-Animator/ID-Animator -o animator.ckpt\n",
        "!aria2c --console-log-level=error -c -x 16 -s 16 -k 1M https://huggingface.co/spaces/ID-Animator/ID-Animator/resolve/main/mm_sd_v15_v2.ckpt -d /content/ID-Animator/ID-Animator -o mm_sd_v15_v2.ckpt\n",
        "!aria2c --console-log-level=error -c -x 16 -s 16 -k 1M https://huggingface.co/spaces/ID-Animator/ID-Animator/resolve/main/realisticVisionV60B1_v51VAE.safetensors -d /content/ID-Animator/ID-Animator -o realisticVisionV60B1_v51VAE.safetensors\n",
        "\n",
        "!aria2c --console-log-level=error -c -x 16 -s 16 -k 1M https://huggingface.co/spaces/ID-Animator/ID-Animator/resolve/main/image_encoder/model.safetensors -d /content/ID-Animator/ID-Animator/image_encoder -o model.safetensors\n",
        "!aria2c --console-log-level=error -c -x 16 -s 16 -k 1M https://huggingface.co/spaces/ID-Animator/ID-Animator/resolve/main/image_encoder/pytorch_model.bin -d /content/ID-Animator/ID-Animator/image_encoder -o pytorch_model.bin\n",
        "\n",
        "!python app.py"
      ]
    }
  ],
  "metadata": {
    "accelerator": "GPU",
    "colab": {
      "gpuType": "T4",
      "provenance": []
    },
    "kernelspec": {
      "display_name": "Python 3",
      "name": "python3"
    },
    "language_info": {
      "name": "python"
    }
  },
  "nbformat": 4,
  "nbformat_minor": 0
}
